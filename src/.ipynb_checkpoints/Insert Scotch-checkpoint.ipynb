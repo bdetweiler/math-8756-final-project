{
 "cells": [
  {
   "cell_type": "markdown",
   "metadata": {},
   "source": [
    "# Insert Scotch from CSVs into SQLite"
   ]
  },
  {
   "cell_type": "code",
   "execution_count": 1,
   "metadata": {
    "collapsed": false
   },
   "outputs": [
    {
     "ename": "IndentationError",
     "evalue": "unexpected indent (<ipython-input-1-ca23f0683f7a>, line 23)",
     "output_type": "error",
     "traceback": [
      "\u001b[1;36m  File \u001b[1;32m\"<ipython-input-1-ca23f0683f7a>\"\u001b[1;36m, line \u001b[1;32m23\u001b[0m\n\u001b[1;33m    for row in whisky:\u001b[0m\n\u001b[1;37m    ^\u001b[0m\n\u001b[1;31mIndentationError\u001b[0m\u001b[1;31m:\u001b[0m unexpected indent\n"
     ]
    }
   ],
   "source": [
    "import pprint\n",
    "import re\n",
    "from pprint import pprint\n",
    "import os\n",
    "import csv\n",
    "\n",
    "from os import listdir\n",
    "from os.path import isfile, join\n",
    "from os import walk\n",
    "\n",
    "import pickle\n",
    "\n",
    "\n",
    "MATH_8756_HOME = os.environ.get('MATH_8756_HOME')\n",
    "CSV_DIR = MATH_8756_HOME + '/' + 'clean data'\n",
    "\n",
    "# This is what we're trying to populate\n",
    "\n",
    "for root, subdirs, files in os.walk(CSV_DIR):\n",
    "    for fileName in files:\n",
    "        with open(fileName, 'rb') as csvfile:\n",
    "            whisky = csv.reader(csvfile, delimiter=',')\n",
    "            for row in whisky:\n",
    "                print row\n",
    "        \n",
    "\n",
    "#target.write(str(flames_lames_dict))\n",
    "#target.close()"
   ]
  }
 ],
 "metadata": {
  "kernelspec": {
   "display_name": "Python 2",
   "language": "python",
   "name": "python2"
  },
  "language_info": {
   "codemirror_mode": {
    "name": "ipython",
    "version": 2
   },
   "file_extension": ".py",
   "mimetype": "text/x-python",
   "name": "python",
   "nbconvert_exporter": "python",
   "pygments_lexer": "ipython2",
   "version": "2.7.10"
  }
 },
 "nbformat": 4,
 "nbformat_minor": 0
}
